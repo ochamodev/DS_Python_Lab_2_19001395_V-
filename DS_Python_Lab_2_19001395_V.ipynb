{
 "cells": [
  {
   "cell_type": "markdown",
   "metadata": {},
   "source": [
    "# Ciencia de datos en Python\n",
    "## Laboratorio #2 Sintaxis y Estructura de Datos\n",
    "\n",
    "\n",
    "### Otto Chamo - 19001395\n",
    "### Sección V\n"
   ]
  },
  {
   "cell_type": "markdown",
   "metadata": {},
   "source": [
    "# Parte 1"
   ]
  },
  {
   "cell_type": "markdown",
   "metadata": {},
   "source": [
    "## Ejercicio #1"
   ]
  },
  {
   "cell_type": "code",
   "execution_count": 11,
   "metadata": {},
   "outputs": [
    {
     "name": "stdout",
     "output_type": "stream",
     "text": [
      "Horas: 0, Minutos: 45, Segundos: 43\n",
      "Horas: 1, Minutos: 37, Segundos: 51\n",
      "El valor que debe ingresar deberia ser un numero entero\n"
     ]
    }
   ],
   "source": [
    "def numToTime(seconds: int):\n",
    "    isInt = (isinstance(seconds, int))\n",
    "    if (isInt):\n",
    "        hours = int((seconds / 3600))\n",
    "        minutes = int(((seconds % 3600) / 60))\n",
    "        sec = int(seconds % 60)\n",
    "        print(\"Horas: {hours}, Minutos: {min}, Segundos: {sec}\".format(hours = hours, min = minutes, sec = sec))\n",
    "    else:\n",
    "        print(\"El valor que debe ingresar deberia ser un numero entero\")\n",
    "\n",
    "\n",
    "numToTime(2743)\n",
    "numToTime(5871)\n",
    "numToTime(\"34\")"
   ]
  },
  {
   "cell_type": "markdown",
   "metadata": {},
   "source": [
    "## Ejercicio 2"
   ]
  },
  {
   "cell_type": "code",
   "execution_count": 55,
   "metadata": {},
   "outputs": [
    {
     "name": "stdout",
     "output_type": "stream",
     "text": [
      "* \n",
      "* * \n",
      "* * * \n",
      "* * * * \n",
      "\n",
      "\n",
      "* * * * * \n",
      "* * * * \n",
      "* * * \n",
      "* * \n",
      "* \n",
      "\n",
      "\n",
      "* * * * * \n",
      "* * * * \n",
      "* * * \n",
      "* * \n",
      "* \n"
     ]
    }
   ],
   "source": [
    "def triangularPattern(rows: int, symbol: str):\n",
    "    # primer triangulo\n",
    "    \n",
    "    for i in range(0, rows):\n",
    "        for j in range(0, i + 1):\n",
    "            print(symbol, end = ' ')\n",
    "        print('\\r')\n",
    "\n",
    "    # segundo triangulo\n",
    "    print(\"\\n\")\n",
    "        \n",
    "        \n",
    "    # tercer triangulo}\n",
    "    print(\"\\n\")\n",
    "    for i in range(rows, -1, -1):\n",
    "        for j in range(0, i + 1):\n",
    "            print(symbol, end = ' ')\n",
    "        print('\\r')\n",
    "\n",
    "\n",
    "    \n",
    "\n",
    "\n",
    "triangularPattern(4, \"*\")"
   ]
  },
  {
   "cell_type": "markdown",
   "metadata": {},
   "source": []
  }
 ],
 "metadata": {
  "kernelspec": {
   "display_name": "base",
   "language": "python",
   "name": "python3"
  },
  "language_info": {
   "codemirror_mode": {
    "name": "ipython",
    "version": 3
   },
   "file_extension": ".py",
   "mimetype": "text/x-python",
   "name": "python",
   "nbconvert_exporter": "python",
   "pygments_lexer": "ipython3",
   "version": "3.11.5"
  }
 },
 "nbformat": 4,
 "nbformat_minor": 2
}
